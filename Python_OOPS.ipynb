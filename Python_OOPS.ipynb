{
 "cells": [
  {
   "cell_type": "markdown",
   "id": "14080ff7-9478-44bd-adef-9f14a537e6d7",
   "metadata": {},
   "source": [
    "## OOPS in Python\n"
   ]
  },
  {
   "cell_type": "code",
   "execution_count": 98,
   "id": "7d9a8816-7605-4988-aeb0-7494354b7a54",
   "metadata": {},
   "outputs": [],
   "source": [
    "\n",
    "class Car:\n",
    "    def __init__(self, window, door, enginetype):\n",
    "        #these are all public vairables, for protected enclose by _ and for private enclose by __\n",
    "        self.windows = window\n",
    "        self.doors = door\n",
    "        self.enginetype = enginetype\n",
    "    def __str__(self):\n",
    "        return \"the object has been initialised\"\n",
    "    def self_driving(self):\n",
    "        return \"this is a {} car\".format(self.enginetype)"
   ]
  },
  {
   "cell_type": "code",
   "execution_count": 100,
   "id": "26c6ea48-c599-49a5-89d3-9f660e2abc0c",
   "metadata": {},
   "outputs": [],
   "source": [
    "car1=Car(6,4,'petrol')"
   ]
  },
  {
   "cell_type": "code",
   "execution_count": 102,
   "id": "c0f3c890-e849-4774-8fb0-26c4b3b4e93e",
   "metadata": {},
   "outputs": [
    {
     "data": {
      "text/plain": [
       "'this is a petrol car'"
      ]
     },
     "execution_count": 102,
     "metadata": {},
     "output_type": "execute_result"
    }
   ],
   "source": [
    "car1.self_driving()"
   ]
  },
  {
   "cell_type": "code",
   "execution_count": 104,
   "id": "a8f069fa-5534-4737-afd1-270fda55afc6",
   "metadata": {},
   "outputs": [
    {
     "data": {
      "text/plain": [
       "['__class__',\n",
       " '__delattr__',\n",
       " '__dict__',\n",
       " '__dir__',\n",
       " '__doc__',\n",
       " '__eq__',\n",
       " '__format__',\n",
       " '__ge__',\n",
       " '__getattribute__',\n",
       " '__getstate__',\n",
       " '__gt__',\n",
       " '__hash__',\n",
       " '__init__',\n",
       " '__init_subclass__',\n",
       " '__le__',\n",
       " '__lt__',\n",
       " '__module__',\n",
       " '__ne__',\n",
       " '__new__',\n",
       " '__reduce__',\n",
       " '__reduce_ex__',\n",
       " '__repr__',\n",
       " '__setattr__',\n",
       " '__sizeof__',\n",
       " '__str__',\n",
       " '__subclasshook__',\n",
       " '__weakref__',\n",
       " 'doors',\n",
       " 'enginetype',\n",
       " 'self_driving',\n",
       " 'windows']"
      ]
     },
     "execution_count": 104,
     "metadata": {},
     "output_type": "execute_result"
    }
   ],
   "source": [
    "dir(car1)"
   ]
  },
  {
   "cell_type": "raw",
   "id": "a519b7f4-5c8e-4eae-877a-e8492fb37fc1",
   "metadata": {},
   "source": [
    "A constructor is used to initialise objects when they are created. i.e., thwy are automatically called when u create a new object\n",
    "__init__ acts as a constructor"
   ]
  },
  {
   "cell_type": "code",
   "execution_count": 106,
   "id": "64bc4972-ad92-496c-b8e6-5272738606e9",
   "metadata": {},
   "outputs": [],
   "source": [
    "car2=Car(7,4,'diesel')"
   ]
  },
  {
   "cell_type": "markdown",
   "id": "06679bdb-e561-44de-964b-153c0123cdf2",
   "metadata": {},
   "source": [
    "## Inheritance"
   ]
  },
  {
   "cell_type": "code",
   "execution_count": 109,
   "id": "058548f9-acf3-4b43-b557-c8be24ad0159",
   "metadata": {},
   "outputs": [
    {
     "data": {
      "text/plain": [
       "'this is a diesel car'"
      ]
     },
     "execution_count": 109,
     "metadata": {},
     "output_type": "execute_result"
    }
   ],
   "source": [
    "car2.self_driving()"
   ]
  },
  {
   "cell_type": "code",
   "execution_count": 111,
   "id": "815cfa8b-53e8-4dcf-b1dc-8bfab169677b",
   "metadata": {},
   "outputs": [],
   "source": [
    "#class audi is inheriting all the properties of the class Car, with additional variables and functions of its own\n",
    "class audi (Car):\n",
    "    def __init__(self,window, door, enginetype,enableai):\n",
    "        super().__init__(window, door, enginetype)\n",
    "        self.enableai=enableai\n",
    "    def selfdriving(self):\n",
    "        print(\"audi supports self driving\")"
   ]
  },
  {
   "cell_type": "code",
   "execution_count": 113,
   "id": "c77bcb0b-1d6f-4382-90d4-e5d2001c8939",
   "metadata": {},
   "outputs": [],
   "source": [
    "audi1=audi(5,5,\"petrol\",True)"
   ]
  },
  {
   "cell_type": "code",
   "execution_count": 115,
   "id": "ca7d5461-f37d-4dda-9f53-5daba9d607b9",
   "metadata": {},
   "outputs": [
    {
     "data": {
      "text/plain": [
       "['__class__',\n",
       " '__delattr__',\n",
       " '__dict__',\n",
       " '__dir__',\n",
       " '__doc__',\n",
       " '__eq__',\n",
       " '__format__',\n",
       " '__ge__',\n",
       " '__getattribute__',\n",
       " '__getstate__',\n",
       " '__gt__',\n",
       " '__hash__',\n",
       " '__init__',\n",
       " '__init_subclass__',\n",
       " '__le__',\n",
       " '__lt__',\n",
       " '__module__',\n",
       " '__ne__',\n",
       " '__new__',\n",
       " '__reduce__',\n",
       " '__reduce_ex__',\n",
       " '__repr__',\n",
       " '__setattr__',\n",
       " '__sizeof__',\n",
       " '__str__',\n",
       " '__subclasshook__',\n",
       " '__weakref__',\n",
       " 'doors',\n",
       " 'enableai',\n",
       " 'enginetype',\n",
       " 'self_driving',\n",
       " 'selfdriving',\n",
       " 'windows']"
      ]
     },
     "execution_count": 115,
     "metadata": {},
     "output_type": "execute_result"
    }
   ],
   "source": [
    "dir(audi1)"
   ]
  },
  {
   "cell_type": "code",
   "execution_count": 117,
   "id": "4333f0a2-1add-4ea4-bf43-cdd406a230c1",
   "metadata": {},
   "outputs": [
    {
     "data": {
      "text/plain": [
       "'this is a petrol car'"
      ]
     },
     "execution_count": 117,
     "metadata": {},
     "output_type": "execute_result"
    }
   ],
   "source": [
    "audi1.self_driving()"
   ]
  },
  {
   "cell_type": "code",
   "execution_count": 119,
   "id": "d64c7d1c-48d6-4c09-9635-c4aa1e1b19e1",
   "metadata": {},
   "outputs": [
    {
     "name": "stdout",
     "output_type": "stream",
     "text": [
      "audi supports self driving\n"
     ]
    }
   ],
   "source": [
    "audi1.selfdriving()"
   ]
  },
  {
   "cell_type": "markdown",
   "id": "18f282e8-188e-4ab6-80b6-2f9fd5f7e60d",
   "metadata": {},
   "source": [
    "## Magic method in class"
   ]
  },
  {
   "cell_type": "code",
   "execution_count": 122,
   "id": "38acd92a-1042-4c39-be73-e743cf2c486f",
   "metadata": {},
   "outputs": [
    {
     "data": {
      "text/plain": [
       "<__main__.Car at 0x1e6fe4dfa70>"
      ]
     },
     "execution_count": 122,
     "metadata": {},
     "output_type": "execute_result"
    }
   ],
   "source": [
    "car1"
   ]
  },
  {
   "cell_type": "code",
   "execution_count": 124,
   "id": "23d5f800-ec25-456a-ba9b-84a26e67b0e7",
   "metadata": {},
   "outputs": [
    {
     "data": {
      "text/plain": [
       "['__class__',\n",
       " '__delattr__',\n",
       " '__dict__',\n",
       " '__dir__',\n",
       " '__doc__',\n",
       " '__eq__',\n",
       " '__format__',\n",
       " '__ge__',\n",
       " '__getattribute__',\n",
       " '__getstate__',\n",
       " '__gt__',\n",
       " '__hash__',\n",
       " '__init__',\n",
       " '__init_subclass__',\n",
       " '__le__',\n",
       " '__lt__',\n",
       " '__module__',\n",
       " '__ne__',\n",
       " '__new__',\n",
       " '__reduce__',\n",
       " '__reduce_ex__',\n",
       " '__repr__',\n",
       " '__setattr__',\n",
       " '__sizeof__',\n",
       " '__str__',\n",
       " '__subclasshook__',\n",
       " '__weakref__',\n",
       " 'doors',\n",
       " 'enginetype',\n",
       " 'self_driving',\n",
       " 'windows']"
      ]
     },
     "execution_count": 124,
     "metadata": {},
     "output_type": "execute_result"
    }
   ],
   "source": [
    "dir(car1)"
   ]
  },
  {
   "cell_type": "code",
   "execution_count": 126,
   "id": "18bd37f6-2652-4b49-bdda-9a920596d05e",
   "metadata": {},
   "outputs": [
    {
     "name": "stdout",
     "output_type": "stream",
     "text": [
      "the object has been initialised\n"
     ]
    }
   ],
   "source": [
    "#magic methods can be overwritten, scroll up to see __str__\n",
    "print(car1)\n"
   ]
  },
  {
   "cell_type": "code",
   "execution_count": null,
   "id": "9b419eb0-2a30-4254-b499-c1e5708f7849",
   "metadata": {},
   "outputs": [],
   "source": []
  },
  {
   "cell_type": "code",
   "execution_count": null,
   "id": "35ee6e50-7af0-46eb-81ac-03081b0b90bf",
   "metadata": {},
   "outputs": [],
   "source": []
  }
 ],
 "metadata": {
  "kernelspec": {
   "display_name": "Python [conda env:base] *",
   "language": "python",
   "name": "conda-base-py"
  },
  "language_info": {
   "codemirror_mode": {
    "name": "ipython",
    "version": 3
   },
   "file_extension": ".py",
   "mimetype": "text/x-python",
   "name": "python",
   "nbconvert_exporter": "python",
   "pygments_lexer": "ipython3",
   "version": "3.12.7"
  }
 },
 "nbformat": 4,
 "nbformat_minor": 5
}
