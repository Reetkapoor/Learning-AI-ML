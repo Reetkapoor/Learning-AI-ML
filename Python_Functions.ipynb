{
 "cells": [
  {
   "cell_type": "markdown",
   "id": "e768c1bd-c104-4304-a1b0-323aefeafecb",
   "metadata": {},
   "source": [
    "#  Functions in Python\n"
   ]
  },
  {
   "cell_type": "markdown",
   "id": "67efc2cb-007d-4217-b543-39f2a1fdc1d2",
   "metadata": {},
   "source": [
    "#### Positional vs Keyword Arguements"
   ]
  },
  {
   "cell_type": "code",
   "execution_count": 9,
   "id": "9104c5b8-9564-4dc5-ae01-e41a0b96f8ce",
   "metadata": {},
   "outputs": [],
   "source": [
    "def even_odd(num):\n",
    "    if num%2==0:\n",
    "        return \"even\"\n",
    "    else:\n",
    "        return \"odd\"\n",
    "        "
   ]
  },
  {
   "cell_type": "code",
   "execution_count": 11,
   "id": "e694b871-593c-4e63-9874-8c2d9c9b6cd0",
   "metadata": {},
   "outputs": [
    {
     "name": "stdout",
     "output_type": "stream",
     "text": [
      "even\n"
     ]
    }
   ],
   "source": [
    "ans=even_odd(24)\n",
    "print(ans)"
   ]
  },
  {
   "cell_type": "code",
   "execution_count": 13,
   "id": "10da9751-94b7-4d84-899b-398636ffc2d8",
   "metadata": {},
   "outputs": [],
   "source": [
    "#name is positional arguement and age is keyword arguement (default arguement)\n",
    "def hello(name,age=20):\n",
    "    print(\"my name is {} and age is {}\".format(name,age))"
   ]
  },
  {
   "cell_type": "code",
   "execution_count": 17,
   "id": "aedfe4d0-d0c8-472f-9662-7180b0e3d9c2",
   "metadata": {},
   "outputs": [
    {
     "name": "stdout",
     "output_type": "stream",
     "text": [
      "my name is reet and age is 20\n"
     ]
    }
   ],
   "source": [
    "hello('reet')"
   ]
  },
  {
   "cell_type": "code",
   "execution_count": 19,
   "id": "81b182ea-acd8-4215-82fa-844fc99575a5",
   "metadata": {},
   "outputs": [],
   "source": [
    "def hello(*args,**kwargs):\n",
    "    print(args)\n",
    "    print(kwargs)"
   ]
  },
  {
   "cell_type": "code",
   "execution_count": 23,
   "id": "b7cffe3a-9f11-4227-8570-ec94ed0149c9",
   "metadata": {},
   "outputs": [
    {
     "name": "stdout",
     "output_type": "stream",
     "text": [
      "('reet', 'kapoor')\n",
      "{'age': 20, 'dob': 2005}\n"
     ]
    }
   ],
   "source": [
    "#positional arguements gets stored in tuple and keyword arguements get stored in form of dictionary \n",
    "hello(\"reet\",\"kapoor\", age=20,dob=2005)"
   ]
  },
  {
   "cell_type": "code",
   "execution_count": 25,
   "id": "d9f7e518-ed34-452c-a024-c4fdd11fe97a",
   "metadata": {},
   "outputs": [],
   "source": [
    "lst=['reet', 'kapoor']\n",
    "dict_args={'age': 20, 'dob': 2005}"
   ]
  },
  {
   "cell_type": "code",
   "execution_count": 27,
   "id": "52c8b998-b568-4c1e-b74a-43c8a075effb",
   "metadata": {},
   "outputs": [
    {
     "name": "stdout",
     "output_type": "stream",
     "text": [
      "(['reet', 'kapoor'], {'age': 20, 'dob': 2005})\n",
      "{}\n"
     ]
    }
   ],
   "source": [
    "hello(lst,dict_args)"
   ]
  },
  {
   "cell_type": "code",
   "execution_count": 31,
   "id": "8bb9fbf2-7860-4510-a8fc-79792f381b4a",
   "metadata": {},
   "outputs": [
    {
     "name": "stdout",
     "output_type": "stream",
     "text": [
      "('reet', 'kapoor')\n",
      "{'age': 20, 'dob': 2005}\n"
     ]
    }
   ],
   "source": [
    "hello(*lst,**dict_args)\n",
    "#we need to specify whether its positional or keyword arguement"
   ]
  },
  {
   "cell_type": "code",
   "execution_count": 33,
   "id": "912b28c4-3854-471e-a9dd-0809577c675b",
   "metadata": {},
   "outputs": [],
   "source": [
    "lst=[1,2,3,4,5,6,7]"
   ]
  },
  {
   "cell_type": "code",
   "execution_count": 35,
   "id": "9a2a8113-cc8b-4e7b-be32-d3d08daa3051",
   "metadata": {},
   "outputs": [],
   "source": [
    "#returning multiple outputs from a function\n",
    "def evenoddsum(lst):\n",
    "    even_sum=0\n",
    "    odd_sum=0\n",
    "    for i in lst:\n",
    "        if i%2==0:\n",
    "            even_sum+=i\n",
    "        else:\n",
    "            odd_sum+=i\n",
    "    return even_sum,odd_sum"
   ]
  },
  {
   "cell_type": "code",
   "execution_count": 37,
   "id": "fc9f330f-b050-4beb-82a3-7be77d4a4884",
   "metadata": {},
   "outputs": [
    {
     "data": {
      "text/plain": [
       "(12, 16)"
      ]
     },
     "execution_count": 37,
     "metadata": {},
     "output_type": "execute_result"
    }
   ],
   "source": [
    "evenoddsum(lst)"
   ]
  },
  {
   "cell_type": "markdown",
   "id": "35c17198-f9dd-4a7d-adfd-7a3d4c094882",
   "metadata": {},
   "source": [
    "## Lambda Function\n",
    "\n",
    "anonymous function, \n",
    "a function with no name"
   ]
  },
  {
   "cell_type": "code",
   "execution_count": 47,
   "id": "8153f572-fe96-4182-a8ad-8cae709a5de1",
   "metadata": {},
   "outputs": [],
   "source": [
    "#if you have a single line of expression inside your function, then u can convert it into a lambda function\n",
    "def addition (a,b):\n",
    "    return a+b"
   ]
  },
  {
   "cell_type": "code",
   "execution_count": 49,
   "id": "e5ee2be4-6328-4ffb-b0fe-935fd98f2223",
   "metadata": {},
   "outputs": [
    {
     "data": {
      "text/plain": [
       "9"
      ]
     },
     "execution_count": 49,
     "metadata": {},
     "output_type": "execute_result"
    }
   ],
   "source": [
    "addition(4,5)"
   ]
  },
  {
   "cell_type": "code",
   "execution_count": 51,
   "id": "1850b205-7ad5-4be2-a706-b1422edc6ef4",
   "metadata": {},
   "outputs": [],
   "source": [
    "#like this\n",
    "addition= lambda a,b:a+b"
   ]
  },
  {
   "cell_type": "code",
   "execution_count": 53,
   "id": "a5731aa7-abe1-4c56-8388-e3ad9994ba3d",
   "metadata": {},
   "outputs": [
    {
     "data": {
      "text/plain": [
       "6"
      ]
     },
     "execution_count": 53,
     "metadata": {},
     "output_type": "execute_result"
    }
   ],
   "source": [
    "addition(2,4)"
   ]
  },
  {
   "cell_type": "code",
   "execution_count": 55,
   "id": "ea7e44ac-a743-4d91-93f3-9b5084aabfe0",
   "metadata": {},
   "outputs": [
    {
     "data": {
      "text/plain": [
       "False"
      ]
     },
     "execution_count": 55,
     "metadata": {},
     "output_type": "execute_result"
    }
   ],
   "source": [
    "#checking if a number is even or not\n",
    "even=lambda a:a%2==0\n",
    "even(23)"
   ]
  },
  {
   "cell_type": "markdown",
   "id": "f1b09c5b-33a2-4869-9fcd-ac69b3e2b5c7",
   "metadata": {},
   "source": [
    "## Map function in python"
   ]
  },
  {
   "cell_type": "code",
   "execution_count": 59,
   "id": "26a0991a-d1a6-4693-a657-08824f7ee329",
   "metadata": {},
   "outputs": [],
   "source": [
    "def even_odd (num):\n",
    "    if num%2==0:\n",
    "        return \"the number {} is even\".format(num)\n",
    "    else:\n",
    "        return \"the number {} is odd\".format(num)\n",
    "    "
   ]
  },
  {
   "cell_type": "code",
   "execution_count": 63,
   "id": "29c7eb38-92c2-4cb1-887a-753d1b340217",
   "metadata": {},
   "outputs": [
    {
     "data": {
      "text/plain": [
       "'the number 24 is even'"
      ]
     },
     "execution_count": 63,
     "metadata": {},
     "output_type": "execute_result"
    }
   ],
   "source": [
    "even_odd(24)"
   ]
  },
  {
   "cell_type": "code",
   "execution_count": 65,
   "id": "3f82fd91-233c-42da-82fd-3222ce9f405b",
   "metadata": {},
   "outputs": [],
   "source": [
    "lst=[34,56,78,54,23,45,67,98,11]"
   ]
  },
  {
   "cell_type": "code",
   "execution_count": 67,
   "id": "7992b4f2-3c06-451b-9ccb-ac0c97ce8341",
   "metadata": {},
   "outputs": [
    {
     "data": {
      "text/plain": [
       "['the number 34 is even',\n",
       " 'the number 56 is even',\n",
       " 'the number 78 is even',\n",
       " 'the number 54 is even',\n",
       " 'the number 23 is odd',\n",
       " 'the number 45 is odd',\n",
       " 'the number 67 is odd',\n",
       " 'the number 98 is even',\n",
       " 'the number 11 is odd']"
      ]
     },
     "execution_count": 67,
     "metadata": {},
     "output_type": "execute_result"
    }
   ],
   "source": [
    "#interating through each and every element can be a lengthy procedure. hence ,map.\n",
    "list(map(even_odd,lst))"
   ]
  },
  {
   "cell_type": "markdown",
   "id": "7c7db4ad-d1ca-42fb-b27c-5dfc0f5c2f56",
   "metadata": {},
   "source": [
    "## Filter function"
   ]
  },
  {
   "cell_type": "code",
   "execution_count": 70,
   "id": "37c0611a-f8fe-4c76-bb00-3d1cc6b8558e",
   "metadata": {},
   "outputs": [],
   "source": [
    "def even_odd(num):\n",
    "    if num%2==0:\n",
    "        return True"
   ]
  },
  {
   "cell_type": "code",
   "execution_count": 74,
   "id": "0c2e3334-ddf8-4643-957a-5322f64d9cf7",
   "metadata": {},
   "outputs": [],
   "source": [
    "lst=[1,2,3,4,5,6,7,8,9]"
   ]
  },
  {
   "cell_type": "code",
   "execution_count": 82,
   "id": "0e299c2b-1dc1-440f-93ff-10611212006d",
   "metadata": {},
   "outputs": [
    {
     "data": {
      "text/plain": [
       "[2, 4, 6, 8]"
      ]
     },
     "execution_count": 82,
     "metadata": {},
     "output_type": "execute_result"
    }
   ],
   "source": [
    "list(filter(even_odd,lst))"
   ]
  },
  {
   "cell_type": "code",
   "execution_count": 84,
   "id": "6668e814-2b02-4c64-99ce-00b68a450a48",
   "metadata": {},
   "outputs": [
    {
     "data": {
      "text/plain": [
       "[2, 4, 6, 8]"
      ]
     },
     "execution_count": 84,
     "metadata": {},
     "output_type": "execute_result"
    }
   ],
   "source": [
    "#or using lambda function\n",
    "list(filter(lambda num:num%2==0,lst))"
   ]
  },
  {
   "cell_type": "markdown",
   "id": "3df04ddd-79c1-41d5-8789-618e91d57ace",
   "metadata": {},
   "source": [
    "## List Comprehension"
   ]
  },
  {
   "cell_type": "code",
   "execution_count": 87,
   "id": "023bb400-3746-440f-9061-fc9874d8e5d3",
   "metadata": {},
   "outputs": [],
   "source": [
    "lst1=[]\n",
    "def lst_square(lst):\n",
    "    for i in lst:\n",
    "        lst1.append(i**2)\n",
    "    return lst1"
   ]
  },
  {
   "cell_type": "markdown",
   "id": "188d3b94-5555-4769-b9ae-368e8238d3d6",
   "metadata": {},
   "source": [
    "lst_square([1,2,3,4,5,6])"
   ]
  },
  {
   "cell_type": "code",
   "execution_count": 91,
   "id": "f5cc0382-0d61-45a3-bce1-19cccfe9ef3e",
   "metadata": {},
   "outputs": [
    {
     "data": {
      "text/plain": [
       "[1, 4, 9, 16, 25, 36, 49, 64, 81]"
      ]
     },
     "execution_count": 91,
     "metadata": {},
     "output_type": "execute_result"
    }
   ],
   "source": [
    "#list comprehension is brackets containing an expression followed by a for clause !\n",
    "#more optimized option\n",
    "[i**2 for i in lst]"
   ]
  },
  {
   "cell_type": "code",
   "execution_count": 93,
   "id": "84394032-dbf0-4728-94b1-c0727ce2e16e",
   "metadata": {},
   "outputs": [
    {
     "data": {
      "text/plain": [
       "[4, 16, 36, 64]"
      ]
     },
     "execution_count": 93,
     "metadata": {},
     "output_type": "execute_result"
    }
   ],
   "source": [
    "#if i want to square only even numbers\n",
    "[i**2 for i in lst if i%2==0]"
   ]
  },
  {
   "cell_type": "markdown",
   "id": "02dd637d-43ca-43ba-b48b-178c7f2d65cc",
   "metadata": {},
   "source": [
    "## PyForest\n",
    "lazy imports of all popular python libraries as per need. it'll automatically  import that specific libraries which you req to run your code.\n"
   ]
  },
  {
   "cell_type": "raw",
   "id": "53ace3e7-efba-4f2f-b596-bf2c407dc3c4",
   "metadata": {},
   "source": [
    "Run this command on your anaconda prompt - pip install pyforest "
   ]
  },
  {
   "cell_type": "code",
   "execution_count": null,
   "id": "59dfd355-1909-40d7-82bb-133a1c4faa43",
   "metadata": {},
   "outputs": [],
   "source": []
  }
 ],
 "metadata": {
  "kernelspec": {
   "display_name": "Python [conda env:base] *",
   "language": "python",
   "name": "conda-base-py"
  },
  "language_info": {
   "codemirror_mode": {
    "name": "ipython",
    "version": 3
   },
   "file_extension": ".py",
   "mimetype": "text/x-python",
   "name": "python",
   "nbconvert_exporter": "python",
   "pygments_lexer": "ipython3",
   "version": "3.12.7"
  }
 },
 "nbformat": 4,
 "nbformat_minor": 5
}
