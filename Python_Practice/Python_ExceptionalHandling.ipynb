{
 "cells": [
  {
   "cell_type": "markdown",
   "id": "6372334f-1f33-4a73-93ee-ed40e6a83f70",
   "metadata": {},
   "source": [
    "## Exceptional Handling in Python"
   ]
  },
  {
   "cell_type": "code",
   "execution_count": 23,
   "id": "b3e0de5c-7949-4245-bd67-7ffaaccb7104",
   "metadata": {},
   "outputs": [
    {
     "name": "stdin",
     "output_type": "stream",
     "text": [
      "enter a num 1 4\n",
      "enter a num 2 0\n"
     ]
    },
    {
     "name": "stdout",
     "output_type": "stream",
     "text": [
      "can't divide by 0\n",
      "execution is done\n"
     ]
    }
   ],
   "source": [
    "try:\n",
    "    #code block where exception can occur\n",
    "    a=int(input(\"enter a num 1\"))\n",
    "    b=int(input(\"enter a num 2\"))\n",
    "    c=a/b\n",
    "    d=a+b\n",
    "    e=a*b\n",
    "#handling these exceptions\n",
    "except NameError as ex1:\n",
    "    print(\"The user have not defined the variable\")\n",
    "except TypeError:\n",
    "    print(\"Try to make the datatype similar\")\n",
    "except ZeroDivisionError:\n",
    "    print(\"can't divide by 0\")\n",
    "except Exception as ex:\n",
    "    print(ex)\n",
    "else: #if no exception occured\n",
    "    print(c)\n",
    "    print(d)\n",
    "    print(e)\n",
    "\n",
    "finally: #this will run whether or not exception occured or not\n",
    "    print(\"execution is done\") "
   ]
  },
  {
   "cell_type": "code",
   "execution_count": 6,
   "id": "f4cea9c0-a531-4f95-a40b-22de05b143a2",
   "metadata": {},
   "outputs": [
    {
     "ename": "NameError",
     "evalue": "name 'b' is not defined",
     "output_type": "error",
     "traceback": [
      "\u001b[1;31m---------------------------------------------------------------------------\u001b[0m",
      "\u001b[1;31mNameError\u001b[0m                                 Traceback (most recent call last)",
      "Cell \u001b[1;32mIn[6], line 1\u001b[0m\n\u001b[1;32m----> 1\u001b[0m a\u001b[38;5;241m=\u001b[39mb\n",
      "\u001b[1;31mNameError\u001b[0m: name 'b' is not defined"
     ]
    }
   ],
   "source": [
    "a=b"
   ]
  },
  {
   "cell_type": "code",
   "execution_count": 8,
   "id": "056e0192-959f-48b6-ac03-a2af917d6c4e",
   "metadata": {},
   "outputs": [
    {
     "ename": "TypeError",
     "evalue": "unsupported operand type(s) for +: 'int' and 'str'",
     "output_type": "error",
     "traceback": [
      "\u001b[1;31m---------------------------------------------------------------------------\u001b[0m",
      "\u001b[1;31mTypeError\u001b[0m                                 Traceback (most recent call last)",
      "Cell \u001b[1;32mIn[8], line 3\u001b[0m\n\u001b[0;32m      1\u001b[0m a\u001b[38;5;241m=\u001b[39m\u001b[38;5;241m1\u001b[39m \n\u001b[0;32m      2\u001b[0m b\u001b[38;5;241m=\u001b[39m\u001b[38;5;124m'\u001b[39m\u001b[38;5;124ma\u001b[39m\u001b[38;5;124m'\u001b[39m\n\u001b[1;32m----> 3\u001b[0m c\u001b[38;5;241m=\u001b[39ma\u001b[38;5;241m+\u001b[39mb\n",
      "\u001b[1;31mTypeError\u001b[0m: unsupported operand type(s) for +: 'int' and 'str'"
     ]
    }
   ],
   "source": [
    "a=1 \n",
    "b='a'\n",
    "c=a+b"
   ]
  },
  {
   "cell_type": "code",
   "execution_count": 16,
   "id": "bd0cd2ea-a27a-477b-8f3e-449944e0b5ed",
   "metadata": {},
   "outputs": [
    {
     "ename": "ZeroDivisionError",
     "evalue": "division by zero",
     "output_type": "error",
     "traceback": [
      "\u001b[1;31m---------------------------------------------------------------------------\u001b[0m",
      "\u001b[1;31mZeroDivisionError\u001b[0m                         Traceback (most recent call last)",
      "Cell \u001b[1;32mIn[16], line 1\u001b[0m\n\u001b[1;32m----> 1\u001b[0m \u001b[38;5;241m12\u001b[39m\u001b[38;5;241m/\u001b[39m\u001b[38;5;241m0\u001b[39m\n",
      "\u001b[1;31mZeroDivisionError\u001b[0m: division by zero"
     ]
    }
   ],
   "source": [
    "12/0"
   ]
  },
  {
   "cell_type": "markdown",
   "id": "dc94fb13-c325-4295-a986-99a04a3e7b80",
   "metadata": {},
   "source": [
    "## Custom exceptions"
   ]
  },
  {
   "cell_type": "code",
   "execution_count": 26,
   "id": "66d36902-b816-47cf-ba6f-011ee1198bee",
   "metadata": {},
   "outputs": [],
   "source": [
    "class Error(Exception):\n",
    "    pass\n",
    "class dobException(Error):\n",
    "    pass"
   ]
  },
  {
   "cell_type": "code",
   "execution_count": 34,
   "id": "55d1d8ec-5c4a-4a42-bb3f-46e1e06f78ed",
   "metadata": {},
   "outputs": [
    {
     "name": "stdin",
     "output_type": "stream",
     "text": [
      "enter year of birth 2005\n"
     ]
    },
    {
     "name": "stdout",
     "output_type": "stream",
     "text": [
      "the age is not valid\n"
     ]
    }
   ],
   "source": [
    "year=int(input(\"enter year of birth\"))\n",
    "age=2025-year\n",
    "try:\n",
    "    if age<=30 & age>20:\n",
    "        print(\"Age is valid\")\n",
    "    else:\n",
    "        raise dobException\n",
    "except dobException:\n",
    "    print(\"the age is not valid\")\n",
    "\n"
   ]
  },
  {
   "cell_type": "code",
   "execution_count": null,
   "id": "f3b900e9-9316-4707-8ed7-5b316b54d907",
   "metadata": {},
   "outputs": [],
   "source": []
  }
 ],
 "metadata": {
  "kernelspec": {
   "display_name": "Python [conda env:base] *",
   "language": "python",
   "name": "conda-base-py"
  },
  "language_info": {
   "codemirror_mode": {
    "name": "ipython",
    "version": 3
   },
   "file_extension": ".py",
   "mimetype": "text/x-python",
   "name": "python",
   "nbconvert_exporter": "python",
   "pygments_lexer": "ipython3",
   "version": "3.12.7"
  }
 },
 "nbformat": 4,
 "nbformat_minor": 5
}
